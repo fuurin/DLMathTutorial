{
 "cells": [
  {
   "cell_type": "markdown",
   "metadata": {},
   "source": [
    "漸化式  \n",
    "初項$a_1$と$a_n, a{n+1}$による関係式からなる数列の帰納的定義  \n",
    "例：\n",
    "$$ 1,3,5,7,9 ... $$\n",
    "$$ a_1 = 1, a_{n+1} = a_n + 2 $$"
   ]
  },
  {
   "cell_type": "markdown",
   "metadata": {},
   "source": [
    "ニューラルネットワークにおける式の書き方\n",
    "$$ a_1^3, w_{12}^3, b_1^3 $$\n",
    "これらは左から，\n",
    "- 3層目の1つめのニューロンの出力\n",
    "- 3層目の1つ目のニューロンへの，前の層の2つ目のニューロンからの重み\n",
    "- 3層目の1つ目のニューロンのバイアス\n",
    "\n",
    "を意味する．  \n",
    "この記法を用いると，例えば「3層目の2つ目のニューロンの出力」は前回式で以下のように表せる\n",
    "    $$ a_2^3 = a(a_1^2 w_{21}^3 + a_2^2 w_{22}^3 + a_3^2 w_{23}^3 + b_2^3) $$"
   ]
  },
  {
   "cell_type": "markdown",
   "metadata": {},
   "source": [
    "内積\n",
    "$$ a \\cdot b = |a||b| \\cos\\theta $$"
   ]
  },
  {
   "cell_type": "markdown",
   "metadata": {},
   "source": [
    "コーシー・シュワルツの不等式\n",
    "$$ -|a||b| \\leq a \\cdot b \\leq |a||b| $$\n",
    "内積の定義と$-1 \\leq \\cos\\theta \\leq 1$から導ける  \n",
    "<br>\n",
    "- 2つのベクトルが反対($\\theta = (2n + 1)\\pi$)のとき，最小値\n",
    "- 2つのベクトルが同じ方向($\\theta = 2n\\pi$)のとき，最大値"
   ]
  },
  {
   "cell_type": "markdown",
   "metadata": {},
   "source": [
    "ラグランジュの未定乗数法  \n",
    "条件付き等式の最適化\n",
    "\n",
    "L(x,y)=f(x,y)−λg(x,y)\n",
    "∂L∂x=∂L∂y=∂L∂λ=0\n",
    "\n",
    "勾配ベクトルを直接求めるのではなく，勾配に平行なベクトルを求めることで勾配となるベクトルを求めている．  \n",
    "参考：[ラグランジュの未定乗数法の解説と直感的な証明](http://www.yunabe.jp/docs/lagrange_multiplier.html)"
   ]
  },
  {
   "cell_type": "code",
   "execution_count": null,
   "metadata": {},
   "outputs": [],
   "source": []
  }
 ],
 "metadata": {
  "kernelspec": {
   "display_name": "Python 3",
   "language": "python",
   "name": "python3"
  },
  "language_info": {
   "codemirror_mode": {
    "name": "ipython",
    "version": 3
   },
   "file_extension": ".py",
   "mimetype": "text/x-python",
   "name": "python",
   "nbconvert_exporter": "python",
   "pygments_lexer": "ipython3",
   "version": "3.7.0"
  }
 },
 "nbformat": 4,
 "nbformat_minor": 2
}
